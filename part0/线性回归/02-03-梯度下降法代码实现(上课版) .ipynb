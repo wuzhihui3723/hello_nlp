{
 "cells": [
  {
   "cell_type": "markdown",
   "metadata": {},
   "source": [
    "## 梯度下降法举例"
   ]
  },
  {
   "cell_type": "code",
   "execution_count": 1,
   "metadata": {},
   "outputs": [],
   "source": [
    "import numpy as np\n",
    "import matplotlib.pyplot as plt"
   ]
  },
  {
   "cell_type": "markdown",
   "metadata": {},
   "source": [
    "##### 求 $y=x^2+2x+5$的最小值"
   ]
  },
  {
   "cell_type": "markdown",
   "metadata": {},
   "source": [
    "###### 画函数图像"
   ]
  },
  {
   "cell_type": "code",
   "execution_count": 2,
   "metadata": {},
   "outputs": [
    {
     "data": {
      "text/plain": "[<matplotlib.lines.Line2D at 0x1a6b4af8d88>]"
     },
     "execution_count": 2,
     "metadata": {},
     "output_type": "execute_result"
    },
    {
     "data": {
      "text/plain": "<Figure size 432x288 with 1 Axes>",
      "image/png": "[encoded data removed]"
     },
     "metadata": {
      "needs_background": "light"
     },
     "output_type": "display_data"
    }
   ],
   "source": [
    "x = np.linspace(-6,4,100)\n",
    "y = x**2+2*x+5\n",
    "plt.plot(x,y)"
   ]
  },
  {
   "cell_type": "markdown",
   "metadata": {},
   "source": [
    "##### 初始化 $x$ , $\\alpha$ 和迭代次数"
   ]
  },
  {
   "cell_type": "code",
   "execution_count": 2,
   "metadata": {},
   "outputs": [],
   "source": []
  },
  {
   "cell_type": "markdown",
   "metadata": {},
   "source": [
    "##### y的导数为2x+2,迭代求 theta"
   ]
  },
  {
   "cell_type": "code",
   "execution_count": 2,
   "metadata": {},
   "outputs": [],
   "source": []
  },
  {
   "cell_type": "markdown",
   "metadata": {},
   "source": [
    "##### 输出最后的值"
   ]
  },
  {
   "cell_type": "code",
   "execution_count": 3,
   "metadata": {},
   "outputs": [
    {
     "name": "stdout",
     "output_type": "stream",
     "text": [
      "[-6.         -5.8989899  -5.7979798  -5.6969697  -5.5959596  -5.49494949\n",
      " -5.39393939 -5.29292929 -5.19191919 -5.09090909 -4.98989899 -4.88888889\n",
      " -4.78787879 -4.68686869 -4.58585859 -4.48484848 -4.38383838 -4.28282828\n",
      " -4.18181818 -4.08080808 -3.97979798 -3.87878788 -3.77777778 -3.67676768\n",
      " -3.57575758 -3.47474747 -3.37373737 -3.27272727 -3.17171717 -3.07070707\n",
      " -2.96969697 -2.86868687 -2.76767677 -2.66666667 -2.56565657 -2.46464646\n",
      " -2.36363636 -2.26262626 -2.16161616 -2.06060606 -1.95959596 -1.85858586\n",
      " -1.75757576 -1.65656566 -1.55555556 -1.45454545 -1.35353535 -1.25252525\n",
      " -1.15151515 -1.05050505 -0.94949495 -0.84848485 -0.74747475 -0.64646465\n",
      " -0.54545455 -0.44444444 -0.34343434 -0.24242424 -0.14141414 -0.04040404\n",
      "  0.06060606  0.16161616  0.26262626  0.36363636  0.46464646  0.56565657\n",
      "  0.66666667  0.76767677  0.86868687  0.96969697  1.07070707  1.17171717\n",
      "  1.27272727  1.37373737  1.47474747  1.57575758  1.67676768  1.77777778\n",
      "  1.87878788  1.97979798  2.08080808  2.18181818  2.28282828  2.38383838\n",
      "  2.48484848  2.58585859  2.68686869  2.78787879  2.88888889  2.98989899\n",
      "  3.09090909  3.19191919  3.29292929  3.39393939  3.49494949  3.5959596\n",
      "  3.6969697   3.7979798   3.8989899   4.        ]\n"
     ]
    }
   ],
   "source": [
    "print(x)"
   ]
  }
 ],
 "metadata": {
  "kernelspec": {
   "name": "python3",
   "language": "python",
   "display_name": "Python 3 (ipykernel)"
  },
  "language_info": {
   "codemirror_mode": {
    "name": "ipython",
    "version": 3
   },
   "file_extension": ".py",
   "mimetype": "text/x-python",
   "name": "python",
   "nbconvert_exporter": "python",
   "pygments_lexer": "ipython3",
   "version": "3.6.5"
  }
 },
 "nbformat": 4,
 "nbformat_minor": 2
}